{
 "cells": [
  {
   "cell_type": "code",
   "execution_count": 1,
   "metadata": {
    "scrolled": false
   },
   "outputs": [
    {
     "ename": "KeyboardInterrupt",
     "evalue": "",
     "output_type": "error",
     "traceback": [
      "\u001b[1;31m---------------------------------------------------------------------------\u001b[0m",
      "\u001b[1;31mKeyboardInterrupt\u001b[0m                         Traceback (most recent call last)",
      "\u001b[1;32m<ipython-input-1-74f7bb4dc133>\u001b[0m in \u001b[0;36m<module>\u001b[1;34m()\u001b[0m\n\u001b[1;32m----> 1\u001b[1;33m \u001b[1;32mfrom\u001b[0m \u001b[0msympy\u001b[0m \u001b[1;32mimport\u001b[0m \u001b[0mDerivative\u001b[0m \u001b[1;32mas\u001b[0m \u001b[0mD\u001b[0m\u001b[1;33m\u001b[0m\u001b[0m\n\u001b[0m\u001b[0;32m      2\u001b[0m \u001b[1;32mfrom\u001b[0m \u001b[0mmath\u001b[0m \u001b[1;32mimport\u001b[0m \u001b[0msin\u001b[0m\u001b[1;33m,\u001b[0m\u001b[0mcos\u001b[0m\u001b[1;33m,\u001b[0m\u001b[0mpi\u001b[0m\u001b[1;33m\u001b[0m\u001b[0m\n\u001b[0;32m      3\u001b[0m \u001b[1;32mimport\u001b[0m \u001b[0mnumpy\u001b[0m \u001b[1;32mas\u001b[0m \u001b[0mnp\u001b[0m\u001b[1;33m\u001b[0m\u001b[0m\n\u001b[0;32m      4\u001b[0m \u001b[1;32mfrom\u001b[0m \u001b[0mscipy\u001b[0m\u001b[1;33m.\u001b[0m\u001b[0mintegrate\u001b[0m \u001b[1;32mimport\u001b[0m \u001b[0modeint\u001b[0m\u001b[1;33m,\u001b[0m\u001b[0mode\u001b[0m\u001b[1;33m\u001b[0m\u001b[0m\n\u001b[0;32m      5\u001b[0m \u001b[1;32mimport\u001b[0m \u001b[0mmatplotlib\u001b[0m\u001b[1;33m.\u001b[0m\u001b[0mpyplot\u001b[0m \u001b[1;32mas\u001b[0m \u001b[0mplt\u001b[0m\u001b[1;33m\u001b[0m\u001b[0m\n",
      "\u001b[1;32m~\\Anaconda3\\lib\\site-packages\\sympy\\__init__.py\u001b[0m in \u001b[0;36m<module>\u001b[1;34m()\u001b[0m\n\u001b[0;32m     62\u001b[0m \u001b[1;32mfrom\u001b[0m \u001b[1;33m.\u001b[0m\u001b[0mfunctions\u001b[0m \u001b[1;32mimport\u001b[0m \u001b[1;33m*\u001b[0m\u001b[1;33m\u001b[0m\u001b[0m\n\u001b[0;32m     63\u001b[0m \u001b[1;32mfrom\u001b[0m \u001b[1;33m.\u001b[0m\u001b[0mntheory\u001b[0m \u001b[1;32mimport\u001b[0m \u001b[1;33m*\u001b[0m\u001b[1;33m\u001b[0m\u001b[0m\n\u001b[1;32m---> 64\u001b[1;33m \u001b[1;32mfrom\u001b[0m \u001b[1;33m.\u001b[0m\u001b[0mconcrete\u001b[0m \u001b[1;32mimport\u001b[0m \u001b[1;33m*\u001b[0m\u001b[1;33m\u001b[0m\u001b[0m\n\u001b[0m\u001b[0;32m     65\u001b[0m \u001b[1;32mfrom\u001b[0m \u001b[1;33m.\u001b[0m\u001b[0msimplify\u001b[0m \u001b[1;32mimport\u001b[0m \u001b[1;33m*\u001b[0m\u001b[1;33m\u001b[0m\u001b[0m\n\u001b[0;32m     66\u001b[0m \u001b[1;32mfrom\u001b[0m \u001b[1;33m.\u001b[0m\u001b[0msets\u001b[0m \u001b[1;32mimport\u001b[0m \u001b[1;33m*\u001b[0m\u001b[1;33m\u001b[0m\u001b[0m\n",
      "\u001b[1;32m~\\Anaconda3\\lib\\importlib\\_bootstrap.py\u001b[0m in \u001b[0;36m_find_and_load\u001b[1;34m(name, import_)\u001b[0m\n",
      "\u001b[1;32m~\\Anaconda3\\lib\\importlib\\_bootstrap.py\u001b[0m in \u001b[0;36m_find_and_load_unlocked\u001b[1;34m(name, import_)\u001b[0m\n",
      "\u001b[1;32m~\\Anaconda3\\lib\\importlib\\_bootstrap.py\u001b[0m in \u001b[0;36m_load_unlocked\u001b[1;34m(spec)\u001b[0m\n",
      "\u001b[1;32m~\\Anaconda3\\lib\\importlib\\_bootstrap_external.py\u001b[0m in \u001b[0;36mexec_module\u001b[1;34m(self, module)\u001b[0m\n",
      "\u001b[1;32m~\\Anaconda3\\lib\\importlib\\_bootstrap_external.py\u001b[0m in \u001b[0;36mget_code\u001b[1;34m(self, fullname)\u001b[0m\n",
      "\u001b[1;32m~\\Anaconda3\\lib\\importlib\\_bootstrap_external.py\u001b[0m in \u001b[0;36mget_data\u001b[1;34m(self, path)\u001b[0m\n",
      "\u001b[1;31mKeyboardInterrupt\u001b[0m: "
     ]
    }
   ],
   "source": [
    "from sympy import Derivative as D\n",
    "from math import sin,cos,pi\n",
    "import numpy as np\n",
    "from scipy.integrate import odeint,ode\n",
    "import matplotlib.pyplot as plt\n",
    "from ipywidgets import interact\n",
    "\n",
    "g=9.8\n",
    "m=0.5\n",
    "L=2\n",
    "def dx(x,t):\n",
    "    \n",
    "    x1,x2,x3,x4=x[0],x[1],x[2],x[3]\n",
    "    \n",
    "    dx1=6/(m*L**2)*(2*x3-3*cos(x1-x2)*x4)/(16-9*cos(x1-x2)**2)\n",
    "    dx2=6/(m*L**2)*(8*x4-3*cos(x1-x2)*x3)/(16-9*cos(x1-x2)**2)\n",
    "    dx3=-0.5*m*L**2*(dx1*dx2*sin(x1-x2)+3*(g/L)*sin(x1))\n",
    "    dx4=-0.5*m*L**2*(-dx1*dx2*sin(x1-x2)+(g/L)*sin(x2))    \n",
    "    return[dx1,dx2,dx3,dx4]\n",
    "\n",
    "x0=[pi/4,pi/2,0,0]    #初始狀態\n",
    "t=np.linspace(0,20,250)  #設定時間 0~20s\n",
    "x=odeint(dx,x0,t)     #解微分方程\n",
    "\n",
    "def draw(L,m):\n",
    "#角度-時間圖\n",
    "    fig,axes=plt.subplots(figsize=(12,4))\n",
    "    axes.plot(t,x[:,0],'r')\n",
    "    axes.plot(t,x[:,1],'b')\n",
    "#角加速度-時間圖\n",
    "    dx1=[0]          #先創一個 0的矩陣,在迴圈幫他加上東西\n",
    "    for i in range(0,250) :\n",
    "        dx1.append(6/(m*L**2)*(2*x[i,2]-3*cos(x[i,0]-x[i,1])*x[i,3])/(16-9*cos(x[i,0]-x[i,1])**2))\n",
    "    \n",
    "    dx1.pop(0) #拿掉第一值\n",
    "\n",
    "\n",
    "    dx2=[0]\n",
    "    for i in range(0,250) :\n",
    "        dx2.append(6/(m*L**2)*(2*x[i,2]-3*cos(x[i,0]-x[i,1])*x[i,2])/(16-9*cos(x[i,0]-x[i,1])**2))\n",
    "    \n",
    "    dx2.pop(0) #拿掉第一個值\n",
    "\n",
    "\n",
    "    fig,axes=plt.subplots(figsize=(12,4))\n",
    "    axes.plot(t,dx1,'r')\n",
    "    axes.plot(t,dx2,'b')\n",
    "\n",
    "#相位圖(角加速度-角度圖)\n",
    "    fig,axes=plt.subplots(figsize=(12,4))\n",
    "    axes.plot(x[:,0],dx1,'r')\n",
    "    axes.plot(x[:,1],dx2,'b')\n",
    "    \n",
    "interact(draw,L=(1.,300.),m=(1.,300.))"
   ]
  },
  {
   "cell_type": "code",
   "execution_count": null,
   "metadata": {},
   "outputs": [],
   "source": []
  },
  {
   "cell_type": "code",
   "execution_count": null,
   "metadata": {},
   "outputs": [],
   "source": []
  },
  {
   "cell_type": "code",
   "execution_count": null,
   "metadata": {},
   "outputs": [],
   "source": []
  }
 ],
 "metadata": {
  "kernelspec": {
   "display_name": "Python 3",
   "language": "python",
   "name": "python3"
  },
  "language_info": {
   "codemirror_mode": {
    "name": "ipython",
    "version": 3
   },
   "file_extension": ".py",
   "mimetype": "text/x-python",
   "name": "python",
   "nbconvert_exporter": "python",
   "pygments_lexer": "ipython3",
   "version": "3.6.4"
  }
 },
 "nbformat": 4,
 "nbformat_minor": 2
}
