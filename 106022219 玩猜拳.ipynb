{
 "cells": [
  {
   "cell_type": "code",
   "execution_count": 1,
   "metadata": {},
   "outputs": [
    {
     "name": "stdout",
     "output_type": "stream",
     "text": [
      "有幾位學生:\n",
      "5\n",
      "一開始有多少錢:\n",
      "100\n",
      "猜輸一次多少錢:\n",
      "30\n",
      "遊戲方式:\n",
      "a\n",
      "猜拳猜幾次:\n",
      "20\n",
      "[70, 70, 130, 70, 160]\n"
     ]
    },
    {
     "data": {
      "text/plain": [
       "<matplotlib.figure.Figure at 0x148b8a6ba90>"
      ]
     },
     "metadata": {},
     "output_type": "display_data"
    }
   ],
   "source": [
    "import numpy as np\n",
    "import matplotlib.pyplot as plt\n",
    "import random \n",
    "\n",
    "\n",
    "print('有幾位學生:')\n",
    "student = int(input())  #有幾位學生\n",
    "print('一開始有多少錢:')\n",
    "money   = int(input())  #一開始有多少錢\n",
    "print('猜輸一次多少錢:')\n",
    "lost_money = int(input()) #猜輸一次多少錢\n",
    "print('遊戲方式:')\n",
    "way     = input() # 方式a:不可負債 /方式b:可負債\n",
    "print('猜拳猜幾次:')\n",
    "times   = int(input()) #猜拳猜幾次\n",
    "\n",
    "student_money = list() #建立一個學生有多少錢的列表\n",
    "student_money = [money] * student #初始化一開始的錢\n",
    "if way == 'a': #方式a\n",
    "    while times != 0:\n",
    "        times = times - 1\n",
    "        rs = random.sample(range(0,student),2)   #隨機挑出兩個人\n",
    "        winner = random.randint(0,3)             #誰獲勝 \n",
    "        \n",
    "        if winner == 2:\n",
    "            continue\n",
    "        \n",
    "        if student_money[rs[0]] == 0 or student_money[rs[1]] == 0:\n",
    "            times += 1\n",
    "            continue\n",
    "        if winner == 0:\n",
    "            if student_money[rs[1]] >= lost_money:\n",
    "                student_money[rs[0]] = student_money[rs[0]] + lost_money \n",
    "                student_money[rs[1]] = student_money[rs[1]] - lost_money\n",
    "            else:\n",
    "                student_money[rs[0]] = student_money[rs[0]] + student_money[rs[1]] \n",
    "                student_money[rs[1]] = 0\n",
    "        if winner == 1:\n",
    "            if student_money[rs[0]] >= lost_money:\n",
    "                student_money[rs[1]] = student_money[rs[1]] + lost_money \n",
    "                student_money[rs[0]] = student_money[rs[0]] - lost_money\n",
    "            else:\n",
    "                student_money[rs[1]] = student_money[rs[1]] + student_money[rs[0]] \n",
    "                student_money[rs[1]] = 0        \n",
    "if way == 'b': #方式b\n",
    "    while times != 0:\n",
    "        times = times - 1\n",
    "        rs = random.sample(range(0,student),2)   #隨機挑出某兩個人\n",
    "        winner = random.randint(0,2)             #誰獲勝     \n",
    "        if winner == 0:\n",
    "            student_money[rs[0]] = student_money[rs[0]] + lost_money \n",
    "            student_money[rs[1]] = student_money[rs[1]] - lost_money\n",
    "        if winner == 1:\n",
    "            student_money[rs[1]] = student_money[rs[1]] + lost_money \n",
    "            student_money[rs[0]] = student_money[rs[0]] - lost_money\n",
    "                \n",
    "print(student_money)   \n",
    "bins = np.arange(min(student_money)-lost_money,max(student_money)+lost_money,lost_money)\n",
    "plt.hist(student_money)\n",
    "plt.show()"
   ]
  },
  {
   "cell_type": "code",
   "execution_count": null,
   "metadata": {},
   "outputs": [],
   "source": []
  }
 ],
 "metadata": {
  "kernelspec": {
   "display_name": "Python 3",
   "language": "python",
   "name": "python3"
  },
  "language_info": {
   "codemirror_mode": {
    "name": "ipython",
    "version": 3
   },
   "file_extension": ".py",
   "mimetype": "text/x-python",
   "name": "python",
   "nbconvert_exporter": "python",
   "pygments_lexer": "ipython3",
   "version": "3.6.4"
  }
 },
 "nbformat": 4,
 "nbformat_minor": 2
}
