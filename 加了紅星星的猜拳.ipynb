{
 "cells": [
  {
   "cell_type": "code",
   "execution_count": 18,
   "metadata": {},
   "outputs": [
    {
     "name": "stdout",
     "output_type": "stream",
     "text": [
      "有幾位學生:\n",
      "100\n",
      "一開始有多少錢:\n",
      "520\n",
      "猜輸一次多少錢:\n",
      "60\n",
      "遊戲方式:\n",
      "a\n",
      "猜拳猜幾次:\n",
      "5000\n",
      "[640, 620, 0, 520, 0, 0, 0, 800, 0, 0, 0, 0, 760, 820, 340, 680, 0, 0, 460, 1060, 1000, 820, 0, 0, 620, 1480, 600, 0, 0, 0, 820, 0, 0, 0, 940, 340, 520, 0, 760, 580, 0, 880, 320, 700, 760, 0, 0, 1640, 820, 1120, 0, 980, 1220, 260, 1300, 700, 460, 0, 340, 0, 0, 0, 0, 0, 580, 0, 0, 0, 0, 0, 0, 0, 0, 0, 820, 640, 520, 340, 0, 580, 940, 980, 340, 160, 140, 860, 680, 460, 200, 0, 0, 640, 40, 760, 1120, 760, 0, 0, 0, 1120]\n",
      "(array([47.,  3.,  8., 12., 10., 11.,  5.,  2.,  0.,  2.]), array([   0.,  164.,  328.,  492.,  656.,  820.,  984., 1148., 1312.,\n",
      "       1476., 1640.]), <a list of 10 Patch objects>)\n",
      "[  82.  246.  410.  574.  738.  902. 1066. 1230. 1394. 1558.]\n",
      "[104.85694549] [[255.66763967]]\n"
     ]
    },
    {
     "data": {
      "image/png": "[encoded data removed]",
      "text/plain": [
       "<Figure size 432x288 with 1 Axes>"
      ]
     },
     "metadata": {
      "needs_background": "light"
     },
     "output_type": "display_data"
    }
   ],
   "source": [
    "import numpy as np\n",
    "import matplotlib.pyplot as plt\n",
    "import random \n",
    "\n",
    "\n",
    "print('有幾位學生:')\n",
    "student = int(input())  #有幾位學生\n",
    "print('一開始有多少錢:')\n",
    "money   = int(input())  #一開始有多少錢\n",
    "print('猜輸一次多少錢:')\n",
    "lost_money = int(input()) #猜輸一次多少錢\n",
    "print('遊戲方式:')\n",
    "way     = input() # 方式a:不可負債 /方式b:可負債\n",
    "print('猜拳猜幾次:')\n",
    "times   = int(input()) #猜拳猜幾次\n",
    "\n",
    "student_money = list() #建立一個學生有多少錢的列表\n",
    "student_money = [money] * student #初始化一開始的錢\n",
    "if way == 'a': #方式a\n",
    "    while times != 0:\n",
    "        times = times - 1\n",
    "        rs = random.sample(range(0,student),2)   #隨機挑出兩個人\n",
    "        winner = random.randint(0,3)             #誰獲勝 \n",
    "        \n",
    "        if winner == 2:\n",
    "            continue\n",
    "        \n",
    "        if student_money[rs[0]] == 0 or student_money[rs[1]] == 0: #沒錢的人玩不算數\n",
    "            times += 1\n",
    "            continue\n",
    "        if winner == 0:\n",
    "            if student_money[rs[1]] >= lost_money:\n",
    "                student_money[rs[0]] = student_money[rs[0]] + lost_money \n",
    "                student_money[rs[1]] = student_money[rs[1]] - lost_money\n",
    "            else:\n",
    "                student_money[rs[0]] = student_money[rs[0]] + student_money[rs[1]] \n",
    "                student_money[rs[1]] = 0\n",
    "        if winner == 1:\n",
    "            if student_money[rs[0]] >= lost_money:\n",
    "                student_money[rs[1]] = student_money[rs[1]] + lost_money \n",
    "                student_money[rs[0]] = student_money[rs[0]] - lost_money\n",
    "            else:\n",
    "                student_money[rs[1]] = student_money[rs[1]] + student_money[rs[0]] \n",
    "                student_money[rs[1]] = 0        \n",
    "if way == 'b': #方式b\n",
    "    while times != 0:\n",
    "        times = times - 1\n",
    "        rs = random.sample(range(0,student),2)   #隨機挑出某兩個人\n",
    "        winner = random.randint(0,2)             #誰獲勝     \n",
    "        if winner == 0:\n",
    "            student_money[rs[0]] = student_money[rs[0]] + lost_money \n",
    "            student_money[rs[1]] = student_money[rs[1]] - lost_money\n",
    "        if winner == 1:\n",
    "            student_money[rs[1]] = student_money[rs[1]] + lost_money \n",
    "            student_money[rs[0]] = student_money[rs[0]] - lost_money\n",
    "                \n",
    "print(student_money)   \n",
    "\n",
    "a=plt.hist(student_money,10)\n",
    "print(a)\n",
    "dx=(a[1][1]-a[1][0])\n",
    "bin_center=np.array(a[1][0:-1])+dx/2\n",
    "print(bin_center)\n",
    "\n",
    "from scipy import optimize\n",
    "def test_func(x, amp):\n",
    "    return amp*np.exp(-x/student)\n",
    "\n",
    "params, params_covariance = optimize.curve_fit(test_func,bin_center,a[0])\n",
    "print(params,params_covariance)\n",
    "\n",
    "plt.plot(bin_center,test_func(bin_center,params[0]),\"r*\",label='Fitted function')\n",
    "\n",
    "         \n",
    "plt.xlabel(\"錢\")\n",
    "plt.ylabel(\"學生總數\")\n",
    "plt.show()\n"
   ]
  },
  {
   "cell_type": "code",
   "execution_count": null,
   "metadata": {},
   "outputs": [],
   "source": []
  },
  {
   "cell_type": "code",
   "execution_count": null,
   "metadata": {},
   "outputs": [],
   "source": []
  },
  {
   "cell_type": "code",
   "execution_count": null,
   "metadata": {},
   "outputs": [],
   "source": []
  },
  {
   "cell_type": "code",
   "execution_count": null,
   "metadata": {},
   "outputs": [],
   "source": []
  },
  {
   "cell_type": "code",
   "execution_count": null,
   "metadata": {},
   "outputs": [],
   "source": []
  }
 ],
 "metadata": {
  "kernelspec": {
   "display_name": "Python 3",
   "language": "python",
   "name": "python3"
  },
  "language_info": {
   "codemirror_mode": {
    "name": "ipython",
    "version": 3
   },
   "file_extension": ".py",
   "mimetype": "text/x-python",
   "name": "python",
   "nbconvert_exporter": "python",
   "pygments_lexer": "ipython3",
   "version": "3.7.1"
  }
 },
 "nbformat": 4,
 "nbformat_minor": 2
}
