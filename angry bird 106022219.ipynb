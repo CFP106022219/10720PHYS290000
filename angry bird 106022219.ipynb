{
 "cells": [
  {
   "cell_type": "code",
   "execution_count": 11,
   "metadata": {},
   "outputs": [
    {
     "name": "stdout",
     "output_type": "stream",
     "text": [
      "749 2\n",
      "想回宿舍\n"
     ]
    },
    {
     "data": {
      "image/png": "[encoded data removed]",
      "text/plain": [
       "<matplotlib.figure.Figure at 0x2c8b668aac8>"
      ]
     },
     "metadata": {},
     "output_type": "display_data"
    }
   ],
   "source": [
    "import numpy as np\n",
    "import matplotlib.pyplot as plt\n",
    "import math\n",
    "import random\n",
    "\n",
    "Vo = 100\n",
    "theta = 0.5\n",
    "g = 9.8\n",
    "a = 2*Vo*math.sin(theta)/g\n",
    "b = 2*Vo*math.sin(theta)/g*Vo*math.cos(seta)\n",
    "t = np.arange(0,a,0.01)\n",
    "x = Vo*(np.cos(theta))*t\n",
    "y = Vo*(np.sin(theta))*t+1/2*(-g)*t**2\n",
    "aa = int(a)\n",
    "bb = int(b)\n",
    "pigx = random.randint(0,bb)\n",
    "pigy = random.randint(0,aa)\n",
    "plt.plot(x,y)  \n",
    "plt.plot(pigx,pigy,\"o\")\n",
    "print(pigx,pigy)\n",
    "\n",
    "if pigx in x and pigy in y:\n",
    " print(\"阿不就好棒\")\n",
    "else:\n",
    " print(\"想回宿舍\")\n"
   ]
  },
  {
   "cell_type": "code",
   "execution_count": 14,
   "metadata": {},
   "outputs": [
    {
     "name": "stdout",
     "output_type": "stream",
     "text": [
      "[0.         0.87758256 1.75516512 2.63274769]\n",
      "4\n",
      "擊中!\n"
     ]
    }
   ],
   "source": [
    "pig_size= 3\n",
    "y=x[x<pig_size]\n",
    "print(y)\n",
    "print(np.shape(y)[0])\n",
    "if np.shape(y)[0]>0:\n",
    "      print(\"擊中!\")"
   ]
  },
  {
   "cell_type": "code",
   "execution_count": null,
   "metadata": {},
   "outputs": [],
   "source": []
  },
  {
   "cell_type": "code",
   "execution_count": null,
   "metadata": {},
   "outputs": [],
   "source": []
  },
  {
   "cell_type": "code",
   "execution_count": null,
   "metadata": {},
   "outputs": [],
   "source": []
  }
 ],
 "metadata": {
  "kernelspec": {
   "display_name": "Python 3",
   "language": "python",
   "name": "python3"
  },
  "language_info": {
   "codemirror_mode": {
    "name": "ipython",
    "version": 3
   },
   "file_extension": ".py",
   "mimetype": "text/x-python",
   "name": "python",
   "nbconvert_exporter": "python",
   "pygments_lexer": "ipython3",
   "version": "3.6.4"
  }
 },
 "nbformat": 4,
 "nbformat_minor": 2
}
