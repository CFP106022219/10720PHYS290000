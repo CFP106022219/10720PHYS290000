{
 "cells": [
  {
   "cell_type": "code",
   "execution_count": null,
   "metadata": {},
   "outputs": [],
   "source": [
    "import math\n",
    "import matplotlib.pyplot as plt \n",
    "import numpy as np\n",
    "\n",
    "fp = open('Alice.txt','r',encoding='UTF-8')\n",
    "line = fp.readline()\n",
    "my_dict = {}\n",
    "\n",
    "while line:\n",
    "    s = line.split()\n",
    "    for x in s:\n",
    "        if x not in my_dict:\n",
    "             my_dict[x] = 1\n",
    "        else:\n",
    "             my_dict[x] += 1\n",
    "    line = fp.readline()\n",
    "    \n",
    "fp.close()\n",
    "\n",
    "num = []\n",
    "\n",
    "for key in my_dict:\n",
    "    num.append(my_dict[key])\n",
    "\n",
    "print(len(num))\n",
    "num.sort()\n",
    "num.reverse()\n",
    "\n",
    "\n",
    "lognum=np.log(num)\n",
    "a=plt.hist(lognum,bins=20)\n",
    "\n",
    "\n",
    "dx=(a[1][1]-a[1][0])\n",
    "bin_center=np.array(a[1][0:-1])+dx/2\n",
    "\n",
    "\n",
    "from scipy import optimize\n",
    "def test_func(x,amp,alpha):\n",
    "    return amp*x**alpha\n",
    "\n",
    "params,params_covariance=optimize.curve_fit(test_func,bin_center,a[0])\n",
    "plt.plot(bin_center,test_func(bin_center,params[0],params[1]),'r*',label='Fitted Function')\n",
    "print(params[0],params[1])\n",
    "plt.show()\n",
    "\n",
    "\n",
    "#plt.loglog(range(len(num)),num)\n",
    "plt.xlabel('Rank of the word')\n",
    "plt.ylabel('Number of the occurance')\n",
    "plt.show()"
   ]
  },
  {
   "cell_type": "code",
   "execution_count": null,
   "metadata": {},
   "outputs": [],
   "source": []
  }
 ],
 "metadata": {
  "kernelspec": {
   "display_name": "Python 3",
   "language": "python",
   "name": "python3"
  },
  "language_info": {
   "codemirror_mode": {
    "name": "ipython",
    "version": 3
   },
   "file_extension": ".py",
   "mimetype": "text/x-python",
   "name": "python",
   "nbconvert_exporter": "python",
   "pygments_lexer": "ipython3",
   "version": "3.6.4"
  }
 },
 "nbformat": 4,
 "nbformat_minor": 2
}
